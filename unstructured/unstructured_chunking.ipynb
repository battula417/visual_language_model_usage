{
 "cells": [
  {
   "cell_type": "code",
   "execution_count": 1,
   "metadata": {},
   "outputs": [],
   "source": [
    "from unstructured.partition.auto import partition"
   ]
  },
  {
   "cell_type": "code",
   "execution_count": 4,
   "metadata": {},
   "outputs": [
    {
     "name": "stdout",
     "output_type": "stream",
     "text": [
      "Warning: No languages specified, defaulting to English.\n",
      "1 2 0 2\n",
      "\n",
      "n u J\n",
      "\n",
      "1 2\n",
      "\n",
      "]\n",
      "\n",
      "V C . s c [\n",
      "\n",
      "2 v 8 4 3 5 1 . 3 0 1 2 : v i X r a\n",
      "\n",
      "LayoutParser: A Uniﬁed Toolkit for Deep Learning Based Document Image Analysis\n",
      "\n",
      "Zejiang Shen1 ((cid:0)), Ruochen Zhang2, Melissa Dell3, Benjamin Charles Germain Lee4, Jacob Carlson3, and Weining Li5\n",
      "\n",
      "1 Allen Institute for AI shannons@allenai.org 2 Brown University ruochen zhang@brown.edu 3 Harvard University {melissadell,jacob carlson}@fas.harvard.edu 4 University of Washington bcgl@cs.washington.edu 5 University of Waterloo w422li@uwaterloo.ca\n",
      "\n",
      "Abstract. Recent advances in document image analysis (DIA) have been primarily driven by the application of neural networks. Ideally, research outcomes could be easily deployed in production and extended for further investigation. However, various factors like loosely organized codebases and sophisticated model conﬁgurations complicate the easy reuse of im- portant innovations by a wide audience. Though there have been on-going eﬀorts to improve reusability and simplify deep learning (DL) model development in disciplines like natural language processing and computer vision, none of them are optimized for challenges in the domain of DIA. This represents a major gap in the existing toolkit, as DIA is central to academic research across a wide range of disciplines in the social sciences and humanities. This paper introduces LayoutParser, an open-source library for streamlining the usage of DL in DIA research and applica- tions. The core LayoutParser library comes with a set of simple and intuitive interfaces for applying and customizing DL models for layout de- tection, character recognition, and many other document processing tasks. To promote extensibility, LayoutParser also incorporates a community platform for sharing both pre-trained models and full document digiti- zation pipelines. We demonstrate that LayoutParser is helpful for both lightweight and large-scale digitization pipelines in real-word use cases. The library is publicly available at https://layout-parser.github.io.\n",
      "\n",
      "Keywords: Document Image Analysis · Deep Learning · Layout Analysis · Character Recognition · Open Source library · Toolkit.\n",
      "\n",
      "1\n",
      "\n",
      "Introduction\n",
      "\n",
      "Deep Learning(DL)-based approaches are the state-of-the-art for a wide range of document image analysis (DIA) tasks including document image classiﬁcation [11,\n",
      "\n",
      "2\n",
      "\n",
      "Z. Shen et al.\n",
      "\n",
      "37], layout detection [38, 22], table detection [26], and scene text detection [4]. A generalized learning-based framework dramatically reduces the need for the manual speciﬁcation of complicated rules, which is the status quo with traditional methods. DL has the potential to transform DIA pipelines and beneﬁt a broad spectrum of large-scale document digitization projects.\n",
      "\n",
      "However, there are several practical diﬃculties for taking advantages of re- cent advances in DL-based methods: 1) DL models are notoriously convoluted for reuse and extension. Existing models are developed using distinct frame- works like TensorFlow [1] or PyTorch [24], and the high-level parameters can be obfuscated by implementation details [8]. It can be a time-consuming and frustrating experience to debug, reproduce, and adapt existing models for DIA, and many researchers who would beneﬁt the most from using these methods lack the technical background to implement them from scratch. 2) Document images contain diverse and disparate patterns across domains, and customized training is often required to achieve a desirable detection accuracy. Currently there is no full-ﬂedged infrastructure for easily curating the target document image datasets and ﬁne-tuning or re-training the models. 3) DIA usually requires a sequence of models and other processing to obtain the ﬁnal outputs. Often research teams use DL models and then perform further document analyses in separate processes, and these pipelines are not documented in any central location (and often not documented at all). This makes it diﬃcult for research teams to learn about how full pipelines are implemented and leads them to invest signiﬁcant resources in reinventing the DIA wheel.\n",
      "\n",
      "LayoutParser provides a uniﬁed toolkit to support DL-based document image analysis and processing. To address the aforementioned challenges, LayoutParser is built with the following components:\n",
      "\n",
      "1. An oﬀ-the-shelf toolkit for applying DL models for layout detection, character recognition, and other DIA tasks (Section 3)\n"
     ]
    }
   ],
   "source": [
    "from unstructured.partition.auto import partition\n",
    "\n",
    "\n",
    "filename = os.path.join(\"layout-parser-paper-fast.pdf\")\n",
    "elements = partition(filename=filename, content_type=\"application/pdf\")\n",
    "print(\"\\n\\n\".join([str(el) for el in elements][:20]))"
   ]
  },
  {
   "cell_type": "code",
   "execution_count": 5,
   "metadata": {},
   "outputs": [
    {
     "name": "stdout",
     "output_type": "stream",
     "text": [
      "Miles Sanders scores a touchdown against the San Francisco 49ers during the NFC Championship game at Lincoln Financial Field.\n",
      "\n",
      "CNN —\n",
      "\n",
      "The Empire State Building was lit in green and white to celebrate the Philadelphia Eagles’ victory in the NFC Championship game on Sunday – a decision that’s sparked a bit of a backlash in the Big Apple.\n",
      "\n",
      "The Eagles advanced to the Super Bowl for the first time since 2018 after defeating the San Francisco 49ers 31-7, and the Empire State Building later tweeted how it was marking the occasion.\n",
      "\n",
      "Fly @Eagles Fly! We’re going Green and White in honor of the Eagles NFC Championship Victory. pic.twitter.com/RNiwbCIkt7\n",
      "\n",
      "— Empire State Building (@EmpireStateBldg) January 29, 2023\n",
      "\n",
      "But given the fierce rivalry between the Eagles and the New York Giants, who the Super Bowl-bound team had comfortably defeated in the previous round of the NFL Playoffs, many were left questioning the move.\n",
      "\n",
      "“Did y’all lose a bet,” ESPN contributor Mina Kimes asked in response to the tweet, while Giants running back Matt Breida also expressed his disbelief.\n",
      "\n",
      "SMH🤦🏾‍♂️\n",
      "\n",
      "— Matt Breida (@MattBreida) January 30, 2023\n",
      "\n",
      "“As the representative for the Empire State Building, and a diehard Giants fan, let me be on the record saying that this is absolutely ridiculous,” said New York City councilman Keith Powers.\n",
      "\n",
      "The Giants’ Twitter account also acknowledged the divisive decision, writing: “I’m just here for the comments.”\n",
      "\n",
      "The Empire State Building, whose original tweet honoring the Eagles was viewed nearly 30 million at the time of writing, said the color switch “hurt us more than it hurt you” – but only after mocking another tweet calling the New York landmark “lame.”\n",
      "\n",
      "The building was later lit in red to celebrate the Kansas City Chiefs’ AFC Championship win against the Cincinnati Bengals.\n",
      "\n",
      "In Philadelphia, meanwhile, Eagles fans poured onto the streets on Sunday night. Large crowds gathered in the city as people climbed up light posts, street signs, and on top of a bus stop canopy.\n",
      "\n",
      "The city announced street closures and vehicle restrictions in Philadelphia’s city center “due to Eagles celebratory activity between 8th to 20th streets and Race to Lombard streets,” the city’s Office of Emergency Management tweeted on Sunday night.\n",
      "\n",
      "“Philadelphians, let’s celebrate joyously, safely, and respectfully and show the same love we have for our team to our city. Go Birds!” Mayor Jim Kenney tweeted.\n",
      "\n",
      "The Eagles and the Chiefs face off in Super Bowl LVII on February 12.\n"
     ]
    }
   ],
   "source": [
    "from unstructured.partition.html import partition_html\n",
    "\n",
    "url = \"https://www.cnn.com/2023/01/30/sport/empire-state-building-green-philadelphia-eagles-spt-intl/index.html\"\n",
    "elements = partition_html(url=url)\n",
    "print(\"\\n\\n\".join([str(el) for el in elements]))"
   ]
  },
  {
   "cell_type": "code",
   "execution_count": 6,
   "metadata": {},
   "outputs": [],
   "source": [
    "import docx\n",
    "\n",
    "from unstructured.partition.auto import partition\n",
    "\n",
    "document = docx.Document()\n",
    "document.add_paragraph(\"Important Analysis\", style=\"Heading 1\")\n",
    "document.add_paragraph(\"Here is my first thought.\", style=\"Body Text\")\n",
    "document.add_paragraph(\"Here is my second thought.\", style=\"Normal\")\n",
    "document.save(\"mydoc.docx\")\n",
    "\n",
    "elements = partition(filename=\"mydoc.docx\")\n",
    "\n",
    "with open(\"mydoc.docx\", \"rb\") as f:\n",
    "    elements = partition(file=f)"
   ]
  },
  {
   "cell_type": "code",
   "execution_count": 10,
   "metadata": {},
   "outputs": [
    {
     "name": "stdout",
     "output_type": "stream",
     "text": [
      "Warning: No languages specified, defaulting to English.\n"
     ]
    }
   ],
   "source": [
    "from unstructured.partition.image import partition_image\n",
    "\n",
    "# Returns a List[Element] present in the pages of the parsed image document\n",
    "elements = partition_image(\"layout-parser-paper-fast.jpg\")\n",
    "\n",
    "# Applies the English and Swedish language pack for ocr\n",
    "elements_image = partition_image(\"layout-parser-paper-fast.jpg\", languages=[\"eng\", \"swe\"])"
   ]
  },
  {
   "cell_type": "code",
   "execution_count": 11,
   "metadata": {},
   "outputs": [
    {
     "name": "stdout",
     "output_type": "stream",
     "text": [
      "[cs.CV] 21 Jun 2021\n",
      "\n",
      "2103.15348v2 arXiv\n",
      "\n",
      "LayoutParser: A Unified Toolkit for Deep Learning Based Document Image Analysis\n",
      "\n",
      "Zejiang Shen! (©), Ruochen Zhang”, Melissa Dell’, Benjamin Charles Germain Lee*, Jacob Carlson*, and Weining Li®\n",
      "\n",
      "\" Allen Institute for Al shannonstallenai .org ? Brown University ruochen-zhang@brown.edu ® Harvard University {melissadell, jacob.carlson}@fas.harvard.edu 4 University of Washington begl0cs.washington.edu © University of Waterloo vd22li@uvaterloo.ca\n",
      "\n",
      "Abstract. Recent advances in document image analysis (DIA) have been primarily driven by the application of neural networks. Ideally, research outcomes could be easily deployed in production and extended for further investigation. However, various factors like loosely organized codebases and sophisticated model configurations complicate the easy reuse of im- portant innovations by a wide audience. Though there have been on-going efforts to improve reusability and simplify deep learning (DL) model development in disciplines like natural language processing and computer vision, none of them are optimized for challenges in the domain of DIA. This represents a major gap in the existing toolkit, as DIA is central to academic research across a wide range of disciplines in the social sciences and humanities. This paper introduces LayoutParser, an open-source library for streamlining the usage of DL in DIA research and applica- tions. The core LayoutParser library comes with a sect of simple and intuitive interfaces for applying and customizing DL models for layout de- tection, character recognition, and many other document processing tasks. ‘To promote extensibility, LayoutParser also incorporates a community platform for sharing both pre-trained models and full document digiti- zation pipelines. We demonstrate that LayoutParser is helpful for both lightweight and large-scale digitization pipelines in realeword use cases. ‘The library is publicly available at https: //layout-parser.github.io\n",
      "\n",
      "Keywords: Document Image Analysis - Deep Learning - Layout Analysis » Character Recognition - Open Source library - Toolkit.\n",
      "\n",
      "1 Introduction\n",
      "\n",
      "Deep Learning(DL)}-based approaches are the state-of-the-art for a wide range of document image analysis (DIA) tasks including document image classification {11}\n"
     ]
    }
   ],
   "source": [
    "print(\"\\n\\n\".join([str(el) for el in elements_image]))"
   ]
  },
  {
   "cell_type": "code",
   "execution_count": 12,
   "metadata": {},
   "outputs": [
    {
     "data": {
      "text/plain": [
       "\"Philadelphia Eagles' victory\""
      ]
     },
     "execution_count": 12,
     "metadata": {},
     "output_type": "execute_result"
    }
   ],
   "source": [
    "from unstructured.cleaners.core import replace_unicode_quotes\n",
    "\n",
    "replace_unicode_quotes(\"Philadelphia Eaglesâ\\x80\\x99 victory\")"
   ]
  },
  {
   "cell_type": "code",
   "execution_count": 14,
   "metadata": {},
   "outputs": [
    {
     "data": {
      "text/plain": [
       "'Hello 😀'"
      ]
     },
     "execution_count": 14,
     "metadata": {},
     "output_type": "execute_result"
    }
   ],
   "source": [
    "from unstructured.cleaners.core import bytes_string_to_string\n",
    "\n",
    "text = \"Hello ð\\x9f\\x98\\x80\"\n",
    "# The output should be \"Hello 😀\"\n",
    "bytes_string_to_string(text, encoding=\"utf-8\")"
   ]
  }
 ],
 "metadata": {
  "interpreter": {
   "hash": "04feca22afc50db217c11fc2c2fd01510376a50535dbbae1615149aac39b50cb"
  },
  "kernelspec": {
   "display_name": "Python 3.12.0",
   "language": "python",
   "name": "python3"
  },
  "language_info": {
   "codemirror_mode": {
    "name": "ipython",
    "version": 3
   },
   "file_extension": ".py",
   "mimetype": "text/x-python",
   "name": "python",
   "nbconvert_exporter": "python",
   "pygments_lexer": "ipython3",
   "version": "3.12.0"
  },
  "orig_nbformat": 4
 },
 "nbformat": 4,
 "nbformat_minor": 2
}
